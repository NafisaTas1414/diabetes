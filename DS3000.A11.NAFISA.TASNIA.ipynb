{
 "cells": [
  {
   "cell_type": "markdown",
   "id": "2eda4c45",
   "metadata": {},
   "source": [
    "#### DS 3000 - Assignment 11\n",
    "#### Student Name: Nafisa Tasnia\n",
    "### Date: 12/2/2024\n",
    "Submission Instructions\n",
    "Submit this ipynb file to canvas.\n",
    "The ipynb format stores outputs from the last time you ran the notebook. (When you open a notebook it has the figures and outputs of the last time you ran it too). To ensure that your submitted ipynb file represents your latest code, make sure to give a fresh run Kernel > Restart & Run All just before uploading the ipynb file to Canvas.\n",
    "Academic Integrity\n",
    "Writing your homework is an individual effort. You may discuss general python problems with other students but under no circumstances should you observe another student's code which was written for this assignment, from this year or past years. Pop into office hours or DM us in MS Teams if you have a specific question about your work or if you would like another pair of eyes or talk through your code.\n",
    "Don't forget to cite websites which helped you solve a problem in a unique way. You can do this in markdown near the code or with a simple one-line comment. You do not need to cite the official python documentation.\n",
    "Documentation / style counts for credit Please refer to the Pep-8 style, to improve the readability and consistency of your Python code. For more information, read the following article How to Write Beautiful Python Code With PEP 8 or ask your TA's for tips.\n",
    "NOTE: Write python expressions to answer ALL questions below and ensure that you use the print() function to display the output. Each question should be answered in a new code cell. For example, your solution for question 1.1 should be in a different code cell from your solution for question 1.2."
   ]
  },
  {
   "cell_type": "code",
   "execution_count": 80,
   "id": "49b8efc4",
   "metadata": {},
   "outputs": [],
   "source": [
    "import pandas as pd\n",
    "import seaborn as sns\n",
    "import matplotlib.pyplot as plt\n",
    "import numpy as np \n",
    "from sklearn.model_selection import train_test_split\n",
    "from sklearn.metrics import accuracy_score, precision_score, recall_score, f1_score, classification_report\n",
    "from sklearn.preprocessing import StandardScaler\n",
    "from sklearn.model_selection import train_test_split, GridSearchCV\n",
    "from sklearn.svm import SVC"
   ]
  },
  {
   "cell_type": "markdown",
   "id": "c9d2c209",
   "metadata": {},
   "source": [
    "## Question 1:\n",
    "(5 pts) Load the dataset “diabetes.csv”, view the dimensions of the data, and gather summary statistics. Comment on your observations about the data."
   ]
  },
  {
   "cell_type": "code",
   "execution_count": 81,
   "id": "12ca4ba5",
   "metadata": {},
   "outputs": [],
   "source": [
    "# reads data\n",
    "diabetes = pd.read_csv(\"diabetes.csv\")"
   ]
  },
  {
   "cell_type": "code",
   "execution_count": 82,
   "id": "1eb6aafa",
   "metadata": {},
   "outputs": [
    {
     "data": {
      "text/html": [
       "<div>\n",
       "<style scoped>\n",
       "    .dataframe tbody tr th:only-of-type {\n",
       "        vertical-align: middle;\n",
       "    }\n",
       "\n",
       "    .dataframe tbody tr th {\n",
       "        vertical-align: top;\n",
       "    }\n",
       "\n",
       "    .dataframe thead th {\n",
       "        text-align: right;\n",
       "    }\n",
       "</style>\n",
       "<table border=\"1\" class=\"dataframe\">\n",
       "  <thead>\n",
       "    <tr style=\"text-align: right;\">\n",
       "      <th></th>\n",
       "      <th>Pregnancies</th>\n",
       "      <th>Glucose</th>\n",
       "      <th>BloodPressure</th>\n",
       "      <th>SkinThickness</th>\n",
       "      <th>Insulin</th>\n",
       "      <th>BMI</th>\n",
       "      <th>DiabetesPedigreeFunction</th>\n",
       "      <th>Age</th>\n",
       "      <th>Outcome</th>\n",
       "    </tr>\n",
       "  </thead>\n",
       "  <tbody>\n",
       "    <tr>\n",
       "      <th>count</th>\n",
       "      <td>768.000000</td>\n",
       "      <td>768.000000</td>\n",
       "      <td>768.000000</td>\n",
       "      <td>768.000000</td>\n",
       "      <td>768.000000</td>\n",
       "      <td>768.000000</td>\n",
       "      <td>768.000000</td>\n",
       "      <td>768.000000</td>\n",
       "      <td>768.000000</td>\n",
       "    </tr>\n",
       "    <tr>\n",
       "      <th>mean</th>\n",
       "      <td>3.845052</td>\n",
       "      <td>120.894531</td>\n",
       "      <td>69.105469</td>\n",
       "      <td>20.536458</td>\n",
       "      <td>79.799479</td>\n",
       "      <td>31.992578</td>\n",
       "      <td>0.471876</td>\n",
       "      <td>33.240885</td>\n",
       "      <td>0.348958</td>\n",
       "    </tr>\n",
       "    <tr>\n",
       "      <th>std</th>\n",
       "      <td>3.369578</td>\n",
       "      <td>31.972618</td>\n",
       "      <td>19.355807</td>\n",
       "      <td>15.952218</td>\n",
       "      <td>115.244002</td>\n",
       "      <td>7.884160</td>\n",
       "      <td>0.331329</td>\n",
       "      <td>11.760232</td>\n",
       "      <td>0.476951</td>\n",
       "    </tr>\n",
       "    <tr>\n",
       "      <th>min</th>\n",
       "      <td>0.000000</td>\n",
       "      <td>0.000000</td>\n",
       "      <td>0.000000</td>\n",
       "      <td>0.000000</td>\n",
       "      <td>0.000000</td>\n",
       "      <td>0.000000</td>\n",
       "      <td>0.078000</td>\n",
       "      <td>21.000000</td>\n",
       "      <td>0.000000</td>\n",
       "    </tr>\n",
       "    <tr>\n",
       "      <th>25%</th>\n",
       "      <td>1.000000</td>\n",
       "      <td>99.000000</td>\n",
       "      <td>62.000000</td>\n",
       "      <td>0.000000</td>\n",
       "      <td>0.000000</td>\n",
       "      <td>27.300000</td>\n",
       "      <td>0.243750</td>\n",
       "      <td>24.000000</td>\n",
       "      <td>0.000000</td>\n",
       "    </tr>\n",
       "    <tr>\n",
       "      <th>50%</th>\n",
       "      <td>3.000000</td>\n",
       "      <td>117.000000</td>\n",
       "      <td>72.000000</td>\n",
       "      <td>23.000000</td>\n",
       "      <td>30.500000</td>\n",
       "      <td>32.000000</td>\n",
       "      <td>0.372500</td>\n",
       "      <td>29.000000</td>\n",
       "      <td>0.000000</td>\n",
       "    </tr>\n",
       "    <tr>\n",
       "      <th>75%</th>\n",
       "      <td>6.000000</td>\n",
       "      <td>140.250000</td>\n",
       "      <td>80.000000</td>\n",
       "      <td>32.000000</td>\n",
       "      <td>127.250000</td>\n",
       "      <td>36.600000</td>\n",
       "      <td>0.626250</td>\n",
       "      <td>41.000000</td>\n",
       "      <td>1.000000</td>\n",
       "    </tr>\n",
       "    <tr>\n",
       "      <th>max</th>\n",
       "      <td>17.000000</td>\n",
       "      <td>199.000000</td>\n",
       "      <td>122.000000</td>\n",
       "      <td>99.000000</td>\n",
       "      <td>846.000000</td>\n",
       "      <td>67.100000</td>\n",
       "      <td>2.420000</td>\n",
       "      <td>81.000000</td>\n",
       "      <td>1.000000</td>\n",
       "    </tr>\n",
       "  </tbody>\n",
       "</table>\n",
       "</div>"
      ],
      "text/plain": [
       "       Pregnancies     Glucose  BloodPressure  SkinThickness     Insulin  \\\n",
       "count   768.000000  768.000000     768.000000     768.000000  768.000000   \n",
       "mean      3.845052  120.894531      69.105469      20.536458   79.799479   \n",
       "std       3.369578   31.972618      19.355807      15.952218  115.244002   \n",
       "min       0.000000    0.000000       0.000000       0.000000    0.000000   \n",
       "25%       1.000000   99.000000      62.000000       0.000000    0.000000   \n",
       "50%       3.000000  117.000000      72.000000      23.000000   30.500000   \n",
       "75%       6.000000  140.250000      80.000000      32.000000  127.250000   \n",
       "max      17.000000  199.000000     122.000000      99.000000  846.000000   \n",
       "\n",
       "              BMI  DiabetesPedigreeFunction         Age     Outcome  \n",
       "count  768.000000                768.000000  768.000000  768.000000  \n",
       "mean    31.992578                  0.471876   33.240885    0.348958  \n",
       "std      7.884160                  0.331329   11.760232    0.476951  \n",
       "min      0.000000                  0.078000   21.000000    0.000000  \n",
       "25%     27.300000                  0.243750   24.000000    0.000000  \n",
       "50%     32.000000                  0.372500   29.000000    0.000000  \n",
       "75%     36.600000                  0.626250   41.000000    1.000000  \n",
       "max     67.100000                  2.420000   81.000000    1.000000  "
      ]
     },
     "execution_count": 82,
     "metadata": {},
     "output_type": "execute_result"
    }
   ],
   "source": [
    "diabetes.describe()"
   ]
  },
  {
   "cell_type": "markdown",
   "id": "708ce536",
   "metadata": {},
   "source": [
    "Looking at the data, I can see that the maximum Blood Pressure level is 122. This means in this dataset, the highest blood pressure of a patient is 122. The maximum for glucose is 199, meaning in the dataset, the highest glucose level of a patient is 199. The maximum skin thickness is 99, meaning the thickest skin that a patient can have in this dataset is 99. The maximum insulin is 846, meaning the highest insulin level a patient in this dataset can have is 846. The highest BMI in this dataset is 67, which is indicated by the max. The maximum pregnancy count in this dataset is 17. This means in the dataset the most amount of pregenancy is 17. Looking at the diabetes pedigree function, which tells us the heredity risk of diabetes, shows us that the maximum score observed in this category is 2.42. The maximum age is 81, meaning the oldest patients in this data set will be 81 years old.\n",
    "The minimum pregnancy a patient can have is 0. So this means a patient might not be pregnant at all. The minimum for glucose, blood pressure, skin thickness, insulin, and BMI are all 0, which is unrealistic because these measures in reality are expected to be non-zero values. Looking at the age, we can see that the minimum age in this dataset is 21. So the youngest patient in the dataset will be the age of 21. The diabetes pedigree function, which tells us the hereditary risk of diabetes, shows that the minimum value is 0.07800. So in this dataset, the lowest score for the diabetes pedigree function observed is 0.07800."
   ]
  },
  {
   "cell_type": "code",
   "execution_count": 83,
   "id": "9af1c56c",
   "metadata": {},
   "outputs": [
    {
     "name": "stdout",
     "output_type": "stream",
     "text": [
      "Dimensions of the dataset: (768, 9)\n"
     ]
    }
   ],
   "source": [
    "# This tells us there is 768 rows with 9 columns\n",
    "print(\"Dimensions of the dataset:\", diabetes.shape)"
   ]
  },
  {
   "cell_type": "code",
   "execution_count": 84,
   "id": "4687873f",
   "metadata": {},
   "outputs": [
    {
     "name": "stdout",
     "output_type": "stream",
     "text": [
      "Pregnancies                   int64\n",
      "Glucose                       int64\n",
      "BloodPressure                 int64\n",
      "SkinThickness                 int64\n",
      "Insulin                       int64\n",
      "BMI                         float64\n",
      "DiabetesPedigreeFunction    float64\n",
      "Age                           int64\n",
      "Outcome                       int64\n",
      "dtype: object\n"
     ]
    }
   ],
   "source": [
    "print(diabetes.dtypes)"
   ]
  },
  {
   "cell_type": "markdown",
   "id": "fdfdb226",
   "metadata": {},
   "source": [
    "## Question 2:\n",
    "Create two visualizations that demonstrate univariate and/or pairwise patterns in the data. Comment on the patterns.\n"
   ]
  },
  {
   "cell_type": "code",
   "execution_count": 85,
   "id": "691b4fed",
   "metadata": {},
   "outputs": [
    {
     "data": {
      "image/png": "[encoded data removed]",
      "text/plain": [
       "<Figure size 800x600 with 1 Axes>"
      ]
     },
     "metadata": {},
     "output_type": "display_data"
    }
   ],
   "source": [
    "# Displays histogram of Blood Pressure Levels \n",
    "plt.figure(figsize=(8,6))\n",
    "plt.hist(diabetes[\"BloodPressure\"], color=\"red\", edgecolor=\"black\")\n",
    "plt.title(\"Distribution of Blood Pressure Levels\")\n",
    "plt.ylabel(\"Frequency\")\n",
    "plt.xlabel(\"Blood Pressure Level\")\n",
    "plt.grid(linestyle=\"--\")"
   ]
  },
  {
   "cell_type": "markdown",
   "id": "67448e2e",
   "metadata": {},
   "source": [
    "This graph shows how blood pressure level from 60 through 80 is the most frequent amongst the patients in this data set. As we look to the right, it is still prevalent but less common for patient blood pressure to be greater than 100. Then looking at the left, we can see that there are a lot of patients whose blood pressure is 0 to around 15. However, having blood pressure around this number is unlikely as this number is extremely low and not compatible with life."
   ]
  },
  {
   "cell_type": "code",
   "execution_count": 86,
   "id": "833ce197",
   "metadata": {},
   "outputs": [
    {
     "data": {
      "image/png": "[encoded data removed]",
      "text/plain": [
       "<Figure size 1000x600 with 1 Axes>"
      ]
     },
     "metadata": {},
     "output_type": "display_data"
    }
   ],
   "source": [
    "# Calculate quartiles for BMI\n",
    "quartiles = diabetes[\"BMI\"].quantile([0.25, 0.5, 0.75])\n",
    "\n",
    "# Create box plot for BMI data with quartiles\n",
    "plt.figure(figsize=(10, 6))\n",
    "plt.boxplot(diabetes[\"BMI\"], vert=False, patch_artist=True, boxprops=dict(facecolor='pink'))\n",
    "plt.axvline(x=quartiles[0.25], color='red', linestyle='--', label=f'25th Quartile: {quartiles[0.25]}')\n",
    "plt.axvline(x=quartiles[0.5], color='green', linestyle='--', label=f'Median: {quartiles[0.5]}')\n",
    "plt.axvline(x=quartiles[0.75], color='purple', linestyle='--', label=f'75th Quartile: {quartiles[0.75]}')\n",
    "plt.xlabel('BMI Value')\n",
    "plt.ylabel('Frequency')\n",
    "plt.title('Whisker Plot of Patients\\' BMI')\n",
    "plt.legend()\n",
    "plt.show()\n"
   ]
  },
  {
   "cell_type": "markdown",
   "id": "b7e697dc",
   "metadata": {},
   "source": [
    "Looking at the BMI whisker plot, we can see that 25% of the BMI of the patients fall below 27.3 in this dataset. Then the median was 32, meaning the middle value of the BMI in this dataset for the patients is 32. Finally, the third quartile was 36.6, meaning 75% of the BMI of the patients fall below 36.6. Taking another look, we can see that the median is closer to Q1 than Q3, meaning that the BMI distribution is slightly skewed towards lower BMI for patients. Then taking a look to the right, we can see that there are some outliers with BMI closer to the 50s, 60s, and 70s but very few. The outliers are less. Then looking to the left, we can see that there are some points towards the 0 which seems to show an error in the dataset as humans can't have 0 for BMI."
   ]
  },
  {
   "cell_type": "markdown",
   "id": "b259057d",
   "metadata": {},
   "source": [
    "## Question 3\n",
    "Evaluate the data for missing or invalid values. Then prepare the data, and ensure that you handle missing and invalid values (if they exist)."
   ]
  },
  {
   "cell_type": "code",
   "execution_count": 87,
   "id": "c5727b27",
   "metadata": {},
   "outputs": [
    {
     "data": {
      "text/html": [
       "<div>\n",
       "<style scoped>\n",
       "    .dataframe tbody tr th:only-of-type {\n",
       "        vertical-align: middle;\n",
       "    }\n",
       "\n",
       "    .dataframe tbody tr th {\n",
       "        vertical-align: top;\n",
       "    }\n",
       "\n",
       "    .dataframe thead th {\n",
       "        text-align: right;\n",
       "    }\n",
       "</style>\n",
       "<table border=\"1\" class=\"dataframe\">\n",
       "  <thead>\n",
       "    <tr style=\"text-align: right;\">\n",
       "      <th></th>\n",
       "      <th>Pregnancies</th>\n",
       "      <th>Glucose</th>\n",
       "      <th>BloodPressure</th>\n",
       "      <th>SkinThickness</th>\n",
       "      <th>Insulin</th>\n",
       "      <th>BMI</th>\n",
       "      <th>DiabetesPedigreeFunction</th>\n",
       "      <th>Age</th>\n",
       "      <th>Outcome</th>\n",
       "    </tr>\n",
       "  </thead>\n",
       "  <tbody>\n",
       "    <tr>\n",
       "      <th>0</th>\n",
       "      <td>6</td>\n",
       "      <td>148</td>\n",
       "      <td>72</td>\n",
       "      <td>35</td>\n",
       "      <td>0</td>\n",
       "      <td>33.6</td>\n",
       "      <td>0.627</td>\n",
       "      <td>50</td>\n",
       "      <td>1</td>\n",
       "    </tr>\n",
       "    <tr>\n",
       "      <th>1</th>\n",
       "      <td>1</td>\n",
       "      <td>85</td>\n",
       "      <td>66</td>\n",
       "      <td>29</td>\n",
       "      <td>0</td>\n",
       "      <td>26.6</td>\n",
       "      <td>0.351</td>\n",
       "      <td>31</td>\n",
       "      <td>0</td>\n",
       "    </tr>\n",
       "    <tr>\n",
       "      <th>2</th>\n",
       "      <td>8</td>\n",
       "      <td>183</td>\n",
       "      <td>64</td>\n",
       "      <td>0</td>\n",
       "      <td>0</td>\n",
       "      <td>23.3</td>\n",
       "      <td>0.672</td>\n",
       "      <td>32</td>\n",
       "      <td>1</td>\n",
       "    </tr>\n",
       "    <tr>\n",
       "      <th>3</th>\n",
       "      <td>1</td>\n",
       "      <td>89</td>\n",
       "      <td>66</td>\n",
       "      <td>23</td>\n",
       "      <td>94</td>\n",
       "      <td>28.1</td>\n",
       "      <td>0.167</td>\n",
       "      <td>21</td>\n",
       "      <td>0</td>\n",
       "    </tr>\n",
       "    <tr>\n",
       "      <th>4</th>\n",
       "      <td>0</td>\n",
       "      <td>137</td>\n",
       "      <td>40</td>\n",
       "      <td>35</td>\n",
       "      <td>168</td>\n",
       "      <td>43.1</td>\n",
       "      <td>2.288</td>\n",
       "      <td>33</td>\n",
       "      <td>1</td>\n",
       "    </tr>\n",
       "  </tbody>\n",
       "</table>\n",
       "</div>"
      ],
      "text/plain": [
       "   Pregnancies  Glucose  BloodPressure  SkinThickness  Insulin   BMI  \\\n",
       "0            6      148             72             35        0  33.6   \n",
       "1            1       85             66             29        0  26.6   \n",
       "2            8      183             64              0        0  23.3   \n",
       "3            1       89             66             23       94  28.1   \n",
       "4            0      137             40             35      168  43.1   \n",
       "\n",
       "   DiabetesPedigreeFunction  Age  Outcome  \n",
       "0                     0.627   50        1  \n",
       "1                     0.351   31        0  \n",
       "2                     0.672   32        1  \n",
       "3                     0.167   21        0  \n",
       "4                     2.288   33        1  "
      ]
     },
     "execution_count": 87,
     "metadata": {},
     "output_type": "execute_result"
    }
   ],
   "source": [
    "# To see data\n",
    "diabetes.head()"
   ]
  },
  {
   "cell_type": "code",
   "execution_count": 88,
   "id": "3b478a96",
   "metadata": {},
   "outputs": [
    {
     "data": {
      "text/plain": [
       "Pregnancies                  0.000\n",
       "Glucose                      0.000\n",
       "BloodPressure                0.000\n",
       "SkinThickness                0.000\n",
       "Insulin                      0.000\n",
       "BMI                          0.000\n",
       "DiabetesPedigreeFunction     0.078\n",
       "Age                         21.000\n",
       "Outcome                      0.000\n",
       "dtype: float64"
      ]
     },
     "execution_count": 88,
     "metadata": {},
     "output_type": "execute_result"
    }
   ],
   "source": [
    "# To see min\n",
    "diabetes.min()"
   ]
  },
  {
   "cell_type": "markdown",
   "id": "1d201908",
   "metadata": {},
   "source": [
    "We can see that the minimum for the variables glucose, blood pressure, skin thickness, insulin, and BMI is 0. However, as a living human, having those variables as 0 would be impossible. Thus, we must impute the data to deal with this inaccurate data. Dropping it would make us lose valuable data in such a small dataset."
   ]
  },
  {
   "cell_type": "markdown",
   "id": "38921d68",
   "metadata": {},
   "source": [
    "Seeing that glucose, blood pressure, skin thickness, insulin, and BMI all have 0 as the minimum is impossible since these are all supposed to be non-zero values as it would be impossible for humans to have 0 for these variables. Thus, we need to impute the data to fill them in so we don't lose important data. I chose the median because it isn't affected by outliers."
   ]
  },
  {
   "cell_type": "code",
   "execution_count": 89,
   "id": "f5e101ec",
   "metadata": {},
   "outputs": [
    {
     "name": "stdout",
     "output_type": "stream",
     "text": [
      "117.0 72.0 23.0 30.5 31.992578124999998 0.3725\n"
     ]
    }
   ],
   "source": [
    "# Get median for each column\n",
    "m_g = diabetes[\"Glucose\"].median()\n",
    "m_bp = diabetes[\"BloodPressure\"].median()\n",
    "m_st = diabetes[\"SkinThickness\"].median()\n",
    "m_insulin = diabetes[\"Insulin\"].median()\n",
    "m_BMI = diabetes[\"BMI\"].mean()\n",
    "m_dp = diabetes[\"DiabetesPedigreeFunction\"].median()\n",
    "print(m_g, m_bp, m_st, m_insulin, m_BMI, m_dp)"
   ]
  },
  {
   "cell_type": "code",
   "execution_count": 90,
   "id": "7e840a4a",
   "metadata": {},
   "outputs": [],
   "source": [
    "# Fill/replace 0 with the median\n",
    "diabetes[\"Glucose\"].fillna(m_g, inplace=True)\n",
    "diabetes[\"BloodPressure\"].fillna(m_bp, inplace=True)\n",
    "diabetes[\"SkinThickness\"].fillna(m_st, inplace=True)\n",
    "diabetes[\"Insulin\"].fillna(m_insulin, inplace=True)\n",
    "diabetes[\"BMI\"].fillna(m_BMI, inplace=True)\n",
    "diabetes[\"DiabetesPedigreeFunction\"].fillna(m_dp, inplace=True)"
   ]
  },
  {
   "cell_type": "code",
   "execution_count": 91,
   "id": "00e99ae2",
   "metadata": {},
   "outputs": [],
   "source": [
    "# Since Outcome is categorical and not integer feature we must change the data type to reflect this\n",
    "diabetes[\"Outcome\"] = diabetes[\"Outcome\"].astype(\"category\")"
   ]
  },
  {
   "cell_type": "code",
   "execution_count": 92,
   "id": "53471e5e",
   "metadata": {},
   "outputs": [
    {
     "name": "stdout",
     "output_type": "stream",
     "text": [
      "Pregnancies                    int64\n",
      "Glucose                        int64\n",
      "BloodPressure                  int64\n",
      "SkinThickness                  int64\n",
      "Insulin                        int64\n",
      "BMI                          float64\n",
      "DiabetesPedigreeFunction     float64\n",
      "Age                            int64\n",
      "Outcome                     category\n",
      "dtype: object\n"
     ]
    }
   ],
   "source": [
    "print(diabetes.dtypes)"
   ]
  },
  {
   "cell_type": "markdown",
   "id": "d4517efc",
   "metadata": {},
   "source": [
    "## QUESTION 4\n",
    "(10 pts) Partition the data into train/test sets. After which, perform the following: encode any categorical data normalize numeric data."
   ]
  },
  {
   "cell_type": "code",
   "execution_count": 93,
   "id": "05350762",
   "metadata": {},
   "outputs": [],
   "source": [
    "# Setting up x variables/features that will be used to predict target variable \n",
    "X = diabetes.drop(columns=[\"Outcome\"])\n",
    "\n",
    "#the target variable/ the variable we are predicting \n",
    "y = diabetes[\"Outcome\"]"
   ]
  },
  {
   "cell_type": "code",
   "execution_count": 94,
   "id": "f01c4fd2",
   "metadata": {},
   "outputs": [],
   "source": [
    "# Spltiting data between test and train\n",
    "X_train, X_test, y_train, y_test = train_test_split(X, y, test_size=0.3, random_state=7)"
   ]
  },
  {
   "cell_type": "code",
   "execution_count": 95,
   "id": "e448f4cb",
   "metadata": {},
   "outputs": [],
   "source": [
    "# setting up StandardScaler\n",
    "scaler = StandardScaler()\n",
    "\n",
    "# Fit and transform the features in X_train\n",
    "X_train = scaler.fit_transform(X_train)\n",
    "\n",
    "# Transform the features in X_test\n",
    "X_test= scaler.transform(X_test)\n"
   ]
  },
  {
   "cell_type": "markdown",
   "id": "4fefc66f",
   "metadata": {},
   "source": [
    "## Question 5\n",
    "Build the model that predicts the target variable. Ensure that you: Instantiate the correct SVM model, train and evaluate it. Use GridSearchCV to tune at least two hyperparameters.** Perform cross validation. **You'll need to read the documentation of the SVM algorithm to identify the hyperparameters. Display: 1) the best model/parameters and 2) the best score that was obtained."
   ]
  },
  {
   "cell_type": "code",
   "execution_count": 96,
   "id": "c1c0568d",
   "metadata": {},
   "outputs": [
    {
     "data": {
      "text/html": [
       "<style>#sk-container-id-5 {color: black;}#sk-container-id-5 pre{padding: 0;}#sk-container-id-5 div.sk-toggleable {background-color: white;}#sk-container-id-5 label.sk-toggleable__label {cursor: pointer;display: block;width: 100%;margin-bottom: 0;padding: 0.3em;box-sizing: border-box;text-align: center;}#sk-container-id-5 label.sk-toggleable__label-arrow:before {content: \"▸\";float: left;margin-right: 0.25em;color: #696969;}#sk-container-id-5 label.sk-toggleable__label-arrow:hover:before {color: black;}#sk-container-id-5 div.sk-estimator:hover label.sk-toggleable__label-arrow:before {color: black;}#sk-container-id-5 div.sk-toggleable__content {max-height: 0;max-width: 0;overflow: hidden;text-align: left;background-color: #f0f8ff;}#sk-container-id-5 div.sk-toggleable__content pre {margin: 0.2em;color: black;border-radius: 0.25em;background-color: #f0f8ff;}#sk-container-id-5 input.sk-toggleable__control:checked~div.sk-toggleable__content {max-height: 200px;max-width: 100%;overflow: auto;}#sk-container-id-5 input.sk-toggleable__control:checked~label.sk-toggleable__label-arrow:before {content: \"▾\";}#sk-container-id-5 div.sk-estimator input.sk-toggleable__control:checked~label.sk-toggleable__label {background-color: #d4ebff;}#sk-container-id-5 div.sk-label input.sk-toggleable__control:checked~label.sk-toggleable__label {background-color: #d4ebff;}#sk-container-id-5 input.sk-hidden--visually {border: 0;clip: rect(1px 1px 1px 1px);clip: rect(1px, 1px, 1px, 1px);height: 1px;margin: -1px;overflow: hidden;padding: 0;position: absolute;width: 1px;}#sk-container-id-5 div.sk-estimator {font-family: monospace;background-color: #f0f8ff;border: 1px dotted black;border-radius: 0.25em;box-sizing: border-box;margin-bottom: 0.5em;}#sk-container-id-5 div.sk-estimator:hover {background-color: #d4ebff;}#sk-container-id-5 div.sk-parallel-item::after {content: \"\";width: 100%;border-bottom: 1px solid gray;flex-grow: 1;}#sk-container-id-5 div.sk-label:hover label.sk-toggleable__label {background-color: #d4ebff;}#sk-container-id-5 div.sk-serial::before {content: \"\";position: absolute;border-left: 1px solid gray;box-sizing: border-box;top: 0;bottom: 0;left: 50%;z-index: 0;}#sk-container-id-5 div.sk-serial {display: flex;flex-direction: column;align-items: center;background-color: white;padding-right: 0.2em;padding-left: 0.2em;position: relative;}#sk-container-id-5 div.sk-item {position: relative;z-index: 1;}#sk-container-id-5 div.sk-parallel {display: flex;align-items: stretch;justify-content: center;background-color: white;position: relative;}#sk-container-id-5 div.sk-item::before, #sk-container-id-5 div.sk-parallel-item::before {content: \"\";position: absolute;border-left: 1px solid gray;box-sizing: border-box;top: 0;bottom: 0;left: 50%;z-index: -1;}#sk-container-id-5 div.sk-parallel-item {display: flex;flex-direction: column;z-index: 1;position: relative;background-color: white;}#sk-container-id-5 div.sk-parallel-item:first-child::after {align-self: flex-end;width: 50%;}#sk-container-id-5 div.sk-parallel-item:last-child::after {align-self: flex-start;width: 50%;}#sk-container-id-5 div.sk-parallel-item:only-child::after {width: 0;}#sk-container-id-5 div.sk-dashed-wrapped {border: 1px dashed gray;margin: 0 0.4em 0.5em 0.4em;box-sizing: border-box;padding-bottom: 0.4em;background-color: white;}#sk-container-id-5 div.sk-label label {font-family: monospace;font-weight: bold;display: inline-block;line-height: 1.2em;}#sk-container-id-5 div.sk-label-container {text-align: center;}#sk-container-id-5 div.sk-container {/* jupyter's `normalize.less` sets `[hidden] { display: none; }` but bootstrap.min.css set `[hidden] { display: none !important; }` so we also need the `!important` here to be able to override the default hidden behavior on the sphinx rendered scikit-learn.org. See: https://github.com/scikit-learn/scikit-learn/issues/21755 */display: inline-block !important;position: relative;}#sk-container-id-5 div.sk-text-repr-fallback {display: none;}</style><div id=\"sk-container-id-5\" class=\"sk-top-container\"><div class=\"sk-text-repr-fallback\"><pre>SVC()</pre><b>In a Jupyter environment, please rerun this cell to show the HTML representation or trust the notebook. <br />On GitHub, the HTML representation is unable to render, please try loading this page with nbviewer.org.</b></div><div class=\"sk-container\" hidden><div class=\"sk-item\"><div class=\"sk-estimator sk-toggleable\"><input class=\"sk-toggleable__control sk-hidden--visually\" id=\"sk-estimator-id-5\" type=\"checkbox\" checked><label for=\"sk-estimator-id-5\" class=\"sk-toggleable__label sk-toggleable__label-arrow\">SVC</label><div class=\"sk-toggleable__content\"><pre>SVC()</pre></div></div></div></div></div>"
      ],
      "text/plain": [
       "SVC()"
      ]
     },
     "execution_count": 96,
     "metadata": {},
     "output_type": "execute_result"
    }
   ],
   "source": [
    "# using svm\n",
    "svc = SVC()\n",
    "\n",
    "# fitting training set \n",
    "svc.fit(X_train, y_train)"
   ]
  },
  {
   "cell_type": "code",
   "execution_count": 97,
   "id": "78c55adf",
   "metadata": {},
   "outputs": [
    {
     "name": "stdout",
     "output_type": "stream",
     "text": [
      "Best Parameters: {'C': 3, 'gamma': 1}\n",
      "Best Score: 0.703859466943579\n"
     ]
    }
   ],
   "source": [
    "# Define the hyperparameters to tune\n",
    "param_grid =  {'C': np.arange(1,10), 'gamma': np.arange(1,5)}\n",
    "\n",
    "# Define the SVM model\n",
    "svc_model = SVC()\n",
    "\n",
    "# Instantiate GridSearchCV\n",
    "svc_grid = GridSearchCV(svc_model, param_grid, cv=5, return_train_score=True)\n",
    "\n",
    "# Fit the GridSearchCV on the training data\n",
    "svc_grid.fit(X_train, y_train)\n",
    "\n",
    "# Get the best model and parameters\n",
    "best_score = svc_grid.best_score_\n",
    "best_params = svc_grid.best_params_\n",
    "\n",
    "# Display the results\n",
    "print(\"Best Parameters:\", best_params)\n",
    "print(\"Best Score:\", best_score)"
   ]
  },
  {
   "cell_type": "code",
   "execution_count": 98,
   "id": "bce66e05",
   "metadata": {},
   "outputs": [],
   "source": [
    "# Use the SVM model with the best parameters\n",
    "best_model = SVC(C=1, gamma=1)\n",
    "\n",
    "# Fit the best model on the training data\n",
    "best_model.fit(X_train, y_train)\n",
    "\n",
    "# Make predictions on the test set\n",
    "y_pred = best_model.predict(X_test)\n"
   ]
  },
  {
   "cell_type": "code",
   "execution_count": 99,
   "id": "34e40afe",
   "metadata": {},
   "outputs": [],
   "source": [
    "# Evaluate the model using the metrics\n",
    "accuracy = accuracy_score(y_test, y_pred)\n",
    "precision = precision_score(y_test, y_pred)\n",
    "recall = recall_score(y_test, y_pred)\n",
    "f1 = f1_score(y_test, y_pred)"
   ]
  },
  {
   "cell_type": "code",
   "execution_count": 100,
   "id": "8310e065",
   "metadata": {},
   "outputs": [
    {
     "name": "stdout",
     "output_type": "stream",
     "text": [
      "Accuracy: 0.6666666666666666\n",
      "Precision: 0.574468085106383\n",
      "Recall: 0.32142857142857145\n",
      "F1 Score: 0.41221374045801534\n"
     ]
    }
   ],
   "source": [
    "# Display score\n",
    "print(\"Accuracy:\", accuracy)\n",
    "print(\"Precision:\", precision)\n",
    "print(\"Recall:\", recall)\n",
    "print(\"F1 Score:\", f1)"
   ]
  },
  {
   "cell_type": "markdown",
   "id": "7a0b49f5",
   "metadata": {},
   "source": [
    "This means the model's predictions for the outcome were 66% correct most of the time. Then the precision tells us that 57% of the predicted positive instances were actually positive. Recall tells us that the model identified the actual positive instances of the outcome 32% of the time. The F1 score of 0.41 indicates the overall balance between precision and recall, which was 0.41. While the model had a high score for accuracy and precision, its score for F1 and recall was relatively low. However, looking at it overall, the model did a moderate job of accurately predicting the outcome."
   ]
  },
  {
   "cell_type": "markdown",
   "id": "fe73a7cb",
   "metadata": {},
   "source": [
    "Question 6\n",
    "Evaluate the scores from GridSearchCV for the training set and the test set to diagnose any bias-variance problems. Comment on the quality of the model. Did it accurately predict the target? Do you think the prediction from this model is useful and would you advocate for its use in the medical industry?\n"
   ]
  },
  {
   "cell_type": "code",
   "execution_count": 101,
   "id": "a90a3d69",
   "metadata": {},
   "outputs": [
    {
     "data": {
      "text/html": [
       "<div>\n",
       "<style scoped>\n",
       "    .dataframe tbody tr th:only-of-type {\n",
       "        vertical-align: middle;\n",
       "    }\n",
       "\n",
       "    .dataframe tbody tr th {\n",
       "        vertical-align: top;\n",
       "    }\n",
       "\n",
       "    .dataframe thead th {\n",
       "        text-align: right;\n",
       "    }\n",
       "</style>\n",
       "<table border=\"1\" class=\"dataframe\">\n",
       "  <thead>\n",
       "    <tr style=\"text-align: right;\">\n",
       "      <th></th>\n",
       "      <th>mean_train_score</th>\n",
       "      <th>std_train_score</th>\n",
       "      <th>mean_test_score</th>\n",
       "      <th>std_test_score</th>\n",
       "    </tr>\n",
       "  </thead>\n",
       "  <tbody>\n",
       "    <tr>\n",
       "      <th>8</th>\n",
       "      <td>0.994879</td>\n",
       "      <td>0.001742</td>\n",
       "      <td>0.703859</td>\n",
       "      <td>0.016865</td>\n",
       "    </tr>\n",
       "    <tr>\n",
       "      <th>12</th>\n",
       "      <td>0.996276</td>\n",
       "      <td>0.002372</td>\n",
       "      <td>0.702025</td>\n",
       "      <td>0.009038</td>\n",
       "    </tr>\n",
       "    <tr>\n",
       "      <th>4</th>\n",
       "      <td>0.991621</td>\n",
       "      <td>0.002370</td>\n",
       "      <td>0.700156</td>\n",
       "      <td>0.024899</td>\n",
       "    </tr>\n",
       "    <tr>\n",
       "      <th>16</th>\n",
       "      <td>0.998605</td>\n",
       "      <td>0.001860</td>\n",
       "      <td>0.698304</td>\n",
       "      <td>0.013070</td>\n",
       "    </tr>\n",
       "    <tr>\n",
       "      <th>0</th>\n",
       "      <td>0.973462</td>\n",
       "      <td>0.002389</td>\n",
       "      <td>0.696469</td>\n",
       "      <td>0.019951</td>\n",
       "    </tr>\n",
       "  </tbody>\n",
       "</table>\n",
       "</div>"
      ],
      "text/plain": [
       "    mean_train_score  std_train_score  mean_test_score  std_test_score\n",
       "8           0.994879         0.001742         0.703859        0.016865\n",
       "12          0.996276         0.002372         0.702025        0.009038\n",
       "4           0.991621         0.002370         0.700156        0.024899\n",
       "16          0.998605         0.001860         0.698304        0.013070\n",
       "0           0.973462         0.002389         0.696469        0.019951"
      ]
     },
     "execution_count": 101,
     "metadata": {},
     "output_type": "execute_result"
    }
   ],
   "source": [
    "# Seeing bias-variance \n",
    "cv_results = pd.DataFrame(svc_grid.cv_results_)\n",
    "cv_results = cv_results.sort_values(by=[\"mean_test_score\"], ascending=False)\n",
    "cv_results[[\"mean_train_score\", \"std_train_score\", \"mean_test_score\", \"std_test_score\"]].head()"
   ]
  },
  {
   "cell_type": "markdown",
   "id": "57fffcce",
   "metadata": {},
   "source": [
    "The mean train score was consistently in the range of 0.99, which indicates that the training data had high performance. Then, the std train score ranged from 0.001742 to 0.002389, meaning there was very little variance around the mean. This suggests that the performance score for the data is consistent throughout every fold, indicating a good model. \n",
    "\n",
    "Now looking at the test scores, we can see that the mean test score was between 0.696469 and 0.703859, which still indicates high performance for the testing data. The std test score ranged from 0.009038 to 0.016865, meaning the variance around the test mean was very small, another indication that the model is good. \n",
    "\n",
    "Considering that the metrics and this low variance in the test all indicate that the model is moderately to highly accurate, shows that this model is suitable for the medical industry. It isn't fully accurate, but the medical industry can still use it for medical applications."
   ]
  },
  {
   "cell_type": "code",
   "execution_count": null,
   "id": "c9b5edb6",
   "metadata": {},
   "outputs": [],
   "source": []
  }
 ],
 "metadata": {
  "kernelspec": {
   "display_name": "Python 3 (ipykernel)",
   "language": "python",
   "name": "python3"
  },
  "language_info": {
   "codemirror_mode": {
    "name": "ipython",
    "version": 3
   },
   "file_extension": ".py",
   "mimetype": "text/x-python",
   "name": "python",
   "nbconvert_exporter": "python",
   "pygments_lexer": "ipython3",
   "version": "3.11.5"
  }
 },
 "nbformat": 4,
 "nbformat_minor": 5
}
